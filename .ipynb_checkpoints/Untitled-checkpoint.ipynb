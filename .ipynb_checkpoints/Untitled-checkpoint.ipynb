{
 "cells": [
  {
   "cell_type": "code",
   "execution_count": 40,
   "id": "491af261",
   "metadata": {},
   "outputs": [
    {
     "name": "stdout",
     "output_type": "stream",
     "text": [
      "ami-04468e03c37242e1e\n",
      "Creating EC2 instance\n"
     ]
    }
   ],
   "source": [
    "import yaml\n",
    "import boto3\n",
    "\n",
    "try:\n",
    "\n",
    "    a_yaml_file = open(\"test.yaml\")\n",
    "    parsed_yaml_file = yaml.load(a_yaml_file, Loader=yaml.FullLoader)\n",
    "\n",
    "    server=parsed_yaml_file.get(\"server\")\n",
    "    print(server[\"ami_type\"])\n",
    "    volumes = server.get(\"volumes\")\n",
    "  \n",
    "    users = server.get(\"users\")\n",
    "\n",
    "    print (\"Creating EC2 instance\")\n",
    "    resource_ec2=boto3.client(\"ec2\")      \n",
    "    resource_ec2.run_instances(\n",
    "        \n",
    "         BlockDeviceMappings=[\n",
    "        {\n",
    "            'DeviceName': volumes[0][\"device\"],\n",
    "            'Ebs': {\n",
    "                'DeleteOnTermination':False,\n",
    "                'VolumeSize': volumes[0][\"size_gb\"],\n",
    "                'VolumeType': \"gp2\",\n",
    "            }\n",
    "            },\n",
    "           \n",
    "    ],\n",
    "        \n",
    "        ImageId=server[\"ami_type\"],\n",
    "        MinCount=server[\"min_count\"],\n",
    "        MaxCount=server[\"max_count\"],\n",
    "        InstanceType=server[\"instance_type\"],\n",
    "        KeyName=\"ec2-key\",\n",
    "        TagSpecifications=[\n",
    "            {\n",
    "            'ResourceType': 'volume',\n",
    "            'Tags': [\n",
    "              {\n",
    "                  'Key': 'Name',\n",
    "                  'Value': 'volume 1'\n",
    "              },\n",
    "            ]\n",
    "            },\n",
    "        ],\n",
    "        UserData='''\n",
    "        #!/bin/bash\n",
    "        useradd user1\n",
    "        useradd user2\n",
    "        '''\n",
    "    )\n",
    "   \n",
    "    \n",
    "except Exception as e:\n",
    "        print(e)"
   ]
  },
  {
   "cell_type": "code",
   "execution_count": 41,
   "id": "43f23f8d",
   "metadata": {},
   "outputs": [],
   "source": [
    "#create volumes\n",
    "volume2=resource_ec2.create_volume(\n",
    "      AvailabilityZone='us-west-1a',\n",
    "      Encrypted=True,\n",
    "      Size=volumes[1][\"size_gb\"],\n",
    "      VolumeType=\"gp2\",\n",
    "      TagSpecifications=[\n",
    "          {\n",
    "              'ResourceType': 'volume',\n",
    "              'Tags': [\n",
    "                  {\n",
    "                      'Key': 'Name',\n",
    "                      'Value': 'volume 2'\n",
    "                  },\n",
    "              ]\n",
    "          },\n",
    "      ],)"
   ]
  },
  {
   "cell_type": "code",
   "execution_count": 43,
   "id": "fa13ae44",
   "metadata": {},
   "outputs": [
    {
     "data": {
      "text/plain": [
       "'vol-057b969cd17606ce9'"
      ]
     },
     "execution_count": 43,
     "metadata": {},
     "output_type": "execute_result"
    }
   ],
   "source": [
    "#get the instance_id of the ec2 instance we just created\n",
    "ec2 = boto3.resource('ec2')\n",
    "instance_id = \"\"\n",
    "instances = ec2.instances.filter(\n",
    "    Filters=[{'Name': 'instance-state-name', 'Values': ['running']}])\n",
    "for instance in instances:\n",
    "    instance_id = instance.id\n",
    "volume2[\"VolumeId\"]"
   ]
  },
  {
   "cell_type": "code",
   "execution_count": 38,
   "id": "3baa053d",
   "metadata": {},
   "outputs": [
    {
     "ename": "ClientError",
     "evalue": "An error occurred (InvalidParameterValue) when calling the AttachVolume operation: Invalid value '/dev/xvda' for unixDevice. Attachment point /dev/xvda is already in use",
     "output_type": "error",
     "traceback": [
      "\u001b[0;31m---------------------------------------------------------------------------\u001b[0m",
      "\u001b[0;31mClientError\u001b[0m                               Traceback (most recent call last)",
      "\u001b[0;32m<ipython-input-38-834bf6a90bde>\u001b[0m in \u001b[0;36m<module>\u001b[0;34m\u001b[0m\n\u001b[1;32m      1\u001b[0m \u001b[0;31m#attach the volume to instance\u001b[0m\u001b[0;34m\u001b[0m\u001b[0;34m\u001b[0m\u001b[0;34m\u001b[0m\u001b[0m\n\u001b[0;32m----> 2\u001b[0;31m attach_response=resource_ec2.attach_volume(Device=volumes[0][\"device\"],\n\u001b[0m\u001b[1;32m      3\u001b[0m       \u001b[0mInstanceId\u001b[0m\u001b[0;34m=\u001b[0m\u001b[0minstance_id\u001b[0m\u001b[0;34m,\u001b[0m\u001b[0;34m\u001b[0m\u001b[0;34m\u001b[0m\u001b[0m\n\u001b[1;32m      4\u001b[0m       \u001b[0mVolumeId\u001b[0m\u001b[0;34m=\u001b[0m\u001b[0mx\u001b[0m\u001b[0;34m[\u001b[0m\u001b[0;34m\"VolumeId\"\u001b[0m\u001b[0;34m]\u001b[0m\u001b[0;34m\u001b[0m\u001b[0;34m\u001b[0m\u001b[0m\n\u001b[1;32m      5\u001b[0m      )\n",
      "\u001b[0;32m~/.local/lib/python3.8/site-packages/botocore/client.py\u001b[0m in \u001b[0;36m_api_call\u001b[0;34m(self, *args, **kwargs)\u001b[0m\n\u001b[1;32m    384\u001b[0m                     \"%s() only accepts keyword arguments.\" % py_operation_name)\n\u001b[1;32m    385\u001b[0m             \u001b[0;31m# The \"self\" in this scope is referring to the BaseClient.\u001b[0m\u001b[0;34m\u001b[0m\u001b[0;34m\u001b[0m\u001b[0;34m\u001b[0m\u001b[0m\n\u001b[0;32m--> 386\u001b[0;31m             \u001b[0;32mreturn\u001b[0m \u001b[0mself\u001b[0m\u001b[0;34m.\u001b[0m\u001b[0m_make_api_call\u001b[0m\u001b[0;34m(\u001b[0m\u001b[0moperation_name\u001b[0m\u001b[0;34m,\u001b[0m \u001b[0mkwargs\u001b[0m\u001b[0;34m)\u001b[0m\u001b[0;34m\u001b[0m\u001b[0;34m\u001b[0m\u001b[0m\n\u001b[0m\u001b[1;32m    387\u001b[0m \u001b[0;34m\u001b[0m\u001b[0m\n\u001b[1;32m    388\u001b[0m         \u001b[0m_api_call\u001b[0m\u001b[0;34m.\u001b[0m\u001b[0m__name__\u001b[0m \u001b[0;34m=\u001b[0m \u001b[0mstr\u001b[0m\u001b[0;34m(\u001b[0m\u001b[0mpy_operation_name\u001b[0m\u001b[0;34m)\u001b[0m\u001b[0;34m\u001b[0m\u001b[0;34m\u001b[0m\u001b[0m\n",
      "\u001b[0;32m~/.local/lib/python3.8/site-packages/botocore/client.py\u001b[0m in \u001b[0;36m_make_api_call\u001b[0;34m(self, operation_name, api_params)\u001b[0m\n\u001b[1;32m    703\u001b[0m             \u001b[0merror_code\u001b[0m \u001b[0;34m=\u001b[0m \u001b[0mparsed_response\u001b[0m\u001b[0;34m.\u001b[0m\u001b[0mget\u001b[0m\u001b[0;34m(\u001b[0m\u001b[0;34m\"Error\"\u001b[0m\u001b[0;34m,\u001b[0m \u001b[0;34m{\u001b[0m\u001b[0;34m}\u001b[0m\u001b[0;34m)\u001b[0m\u001b[0;34m.\u001b[0m\u001b[0mget\u001b[0m\u001b[0;34m(\u001b[0m\u001b[0;34m\"Code\"\u001b[0m\u001b[0;34m)\u001b[0m\u001b[0;34m\u001b[0m\u001b[0;34m\u001b[0m\u001b[0m\n\u001b[1;32m    704\u001b[0m             \u001b[0merror_class\u001b[0m \u001b[0;34m=\u001b[0m \u001b[0mself\u001b[0m\u001b[0;34m.\u001b[0m\u001b[0mexceptions\u001b[0m\u001b[0;34m.\u001b[0m\u001b[0mfrom_code\u001b[0m\u001b[0;34m(\u001b[0m\u001b[0merror_code\u001b[0m\u001b[0;34m)\u001b[0m\u001b[0;34m\u001b[0m\u001b[0;34m\u001b[0m\u001b[0m\n\u001b[0;32m--> 705\u001b[0;31m             \u001b[0;32mraise\u001b[0m \u001b[0merror_class\u001b[0m\u001b[0;34m(\u001b[0m\u001b[0mparsed_response\u001b[0m\u001b[0;34m,\u001b[0m \u001b[0moperation_name\u001b[0m\u001b[0;34m)\u001b[0m\u001b[0;34m\u001b[0m\u001b[0;34m\u001b[0m\u001b[0m\n\u001b[0m\u001b[1;32m    706\u001b[0m         \u001b[0;32melse\u001b[0m\u001b[0;34m:\u001b[0m\u001b[0;34m\u001b[0m\u001b[0;34m\u001b[0m\u001b[0m\n\u001b[1;32m    707\u001b[0m             \u001b[0;32mreturn\u001b[0m \u001b[0mparsed_response\u001b[0m\u001b[0;34m\u001b[0m\u001b[0;34m\u001b[0m\u001b[0m\n",
      "\u001b[0;31mClientError\u001b[0m: An error occurred (InvalidParameterValue) when calling the AttachVolume operation: Invalid value '/dev/xvda' for unixDevice. Attachment point /dev/xvda is already in use"
     ]
    }
   ],
   "source": [
    "#attach the volume to instance\n",
    "attach_response=resource_ec2.attach_volume(Device=volumes[1][\"device\"],\n",
    "      InstanceId=instance_id,\n",
    "      VolumeId=volume2[\"VolumeId\"]\n",
    "     )"
   ]
  },
  {
   "cell_type": "code",
   "execution_count": null,
   "id": "3a74dfba",
   "metadata": {},
   "outputs": [],
   "source": []
  }
 ],
 "metadata": {
  "kernelspec": {
   "display_name": "Python 3",
   "language": "python",
   "name": "python3"
  },
  "language_info": {
   "codemirror_mode": {
    "name": "ipython",
    "version": 3
   },
   "file_extension": ".py",
   "mimetype": "text/x-python",
   "name": "python",
   "nbconvert_exporter": "python",
   "pygments_lexer": "ipython3",
   "version": "3.8.5"
  }
 },
 "nbformat": 4,
 "nbformat_minor": 5
}
